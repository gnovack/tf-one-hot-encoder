{
  "nbformat": 4,
  "nbformat_minor": 0,
  "metadata": {
    "colab": {
      "name": "OneHotEncoderLayer.ipynb",
      "provenance": [],
      "collapsed_sections": [],
      "authorship_tag": "ABX9TyMLDKtMPvp+XCOnlxFD8lL0",
      "include_colab_link": true
    },
    "kernelspec": {
      "name": "python3",
      "display_name": "Python 3"
    }
  },
  "cells": [
    {
      "cell_type": "markdown",
      "metadata": {
        "id": "view-in-github",
        "colab_type": "text"
      },
      "source": [
        "<a href=\"https://colab.research.google.com/github/gnovack/tf-one-hot-encoder/blob/master/OneHotEncoderLayer.ipynb\" target=\"_parent\"><img src=\"https://colab.research.google.com/assets/colab-badge.svg\" alt=\"Open In Colab\"/></a>"
      ]
    },
    {
      "cell_type": "code",
      "metadata": {
        "id": "h0U1l47AghYX",
        "colab_type": "code",
        "colab": {}
      },
      "source": [
        "import numpy as np\n",
        "import pandas as pd\n",
        "from sklearn.linear_model import LinearRegression\n",
        "from sklearn.pipeline import Pipeline\n",
        "from sklearn.preprocessing import OneHotEncoder\n",
        "import tensorflow as tf\n",
        "from tensorflow.keras import layers, models"
      ],
      "execution_count": 0,
      "outputs": []
    },
    {
      "cell_type": "markdown",
      "metadata": {
        "id": "L9eqB1hOPX25",
        "colab_type": "text"
      },
      "source": [
        "## One Hot Encoding using Sci-kit Learn's OneHotEncoder Class"
      ]
    },
    {
      "cell_type": "code",
      "metadata": {
        "id": "fk1k4ZtXPJ8g",
        "colab_type": "code",
        "colab": {
          "base_uri": "https://localhost:8080/",
          "height": 397
        },
        "outputId": "ae0d4c1f-3867-4b94-bbb0-4c75bae7f464"
      },
      "source": [
        "colors_df = pd.DataFrame(data=[['red'],['blue'],['green'],['blue']], columns=['color'])\n",
        "print('Before One Hot Encoding:')\n",
        "display(colors_df)\n",
        "\n",
        "one_hot_encoder = OneHotEncoder(sparse=False)\n",
        "one_hot_encoder.fit(colors_df)\n",
        "\n",
        "colors_df_encoded = one_hot_encoder.transform(colors_df)\n",
        "colors_df_encoded = pd.DataFrame(data=colors_df_encoded, columns=one_hot_encoder.categories_)\n",
        "print('\\n\\nAfter One Hot Encoding:')\n",
        "display(colors_df_encoded)"
      ],
      "execution_count": 2,
      "outputs": [
        {
          "output_type": "stream",
          "text": [
            "Before One Hot Encoding:\n"
          ],
          "name": "stdout"
        },
        {
          "output_type": "display_data",
          "data": {
            "text/html": [
              "<div>\n",
              "<style scoped>\n",
              "    .dataframe tbody tr th:only-of-type {\n",
              "        vertical-align: middle;\n",
              "    }\n",
              "\n",
              "    .dataframe tbody tr th {\n",
              "        vertical-align: top;\n",
              "    }\n",
              "\n",
              "    .dataframe thead th {\n",
              "        text-align: right;\n",
              "    }\n",
              "</style>\n",
              "<table border=\"1\" class=\"dataframe\">\n",
              "  <thead>\n",
              "    <tr style=\"text-align: right;\">\n",
              "      <th></th>\n",
              "      <th>color</th>\n",
              "    </tr>\n",
              "  </thead>\n",
              "  <tbody>\n",
              "    <tr>\n",
              "      <th>0</th>\n",
              "      <td>red</td>\n",
              "    </tr>\n",
              "    <tr>\n",
              "      <th>1</th>\n",
              "      <td>blue</td>\n",
              "    </tr>\n",
              "    <tr>\n",
              "      <th>2</th>\n",
              "      <td>green</td>\n",
              "    </tr>\n",
              "    <tr>\n",
              "      <th>3</th>\n",
              "      <td>blue</td>\n",
              "    </tr>\n",
              "  </tbody>\n",
              "</table>\n",
              "</div>"
            ],
            "text/plain": [
              "   color\n",
              "0    red\n",
              "1   blue\n",
              "2  green\n",
              "3   blue"
            ]
          },
          "metadata": {
            "tags": []
          }
        },
        {
          "output_type": "stream",
          "text": [
            "\n",
            "\n",
            "After One Hot Encoding:\n"
          ],
          "name": "stdout"
        },
        {
          "output_type": "display_data",
          "data": {
            "text/html": [
              "<div>\n",
              "<style scoped>\n",
              "    .dataframe tbody tr th:only-of-type {\n",
              "        vertical-align: middle;\n",
              "    }\n",
              "\n",
              "    .dataframe tbody tr th {\n",
              "        vertical-align: top;\n",
              "    }\n",
              "\n",
              "    .dataframe thead tr th {\n",
              "        text-align: left;\n",
              "    }\n",
              "</style>\n",
              "<table border=\"1\" class=\"dataframe\">\n",
              "  <thead>\n",
              "    <tr>\n",
              "      <th></th>\n",
              "      <th>blue</th>\n",
              "      <th>green</th>\n",
              "      <th>red</th>\n",
              "    </tr>\n",
              "  </thead>\n",
              "  <tbody>\n",
              "    <tr>\n",
              "      <th>0</th>\n",
              "      <td>0.0</td>\n",
              "      <td>0.0</td>\n",
              "      <td>1.0</td>\n",
              "    </tr>\n",
              "    <tr>\n",
              "      <th>1</th>\n",
              "      <td>1.0</td>\n",
              "      <td>0.0</td>\n",
              "      <td>0.0</td>\n",
              "    </tr>\n",
              "    <tr>\n",
              "      <th>2</th>\n",
              "      <td>0.0</td>\n",
              "      <td>1.0</td>\n",
              "      <td>0.0</td>\n",
              "    </tr>\n",
              "    <tr>\n",
              "      <th>3</th>\n",
              "      <td>1.0</td>\n",
              "      <td>0.0</td>\n",
              "      <td>0.0</td>\n",
              "    </tr>\n",
              "  </tbody>\n",
              "</table>\n",
              "</div>"
            ],
            "text/plain": [
              "  blue green  red\n",
              "0  0.0   0.0  1.0\n",
              "1  1.0   0.0  0.0\n",
              "2  0.0   1.0  0.0\n",
              "3  1.0   0.0  0.0"
            ]
          },
          "metadata": {
            "tags": []
          }
        }
      ]
    },
    {
      "cell_type": "markdown",
      "metadata": {
        "id": "XR3caVlWP3hu",
        "colab_type": "text"
      },
      "source": [
        "## One Hot Encoding in a Sci-kit Learn Pipeline\n",
        "A simple Pipeline that bundles One Hot Encoding logic with a Linear Regression model."
      ]
    },
    {
      "cell_type": "code",
      "metadata": {
        "id": "L8WqfpALPw3W",
        "colab_type": "code",
        "colab": {
          "base_uri": "https://localhost:8080/",
          "height": 51
        },
        "outputId": "4d0fd98e-2b3e-4aff-a1d4-0bb537830e5d"
      },
      "source": [
        "labels = [10,4,6,4]\n",
        "\n",
        "linear_regression = LinearRegression()\n",
        "pipeline = Pipeline(steps=[('one_hot_encoder',one_hot_encoder), ('linear_regression', linear_regression)])\n",
        "pipeline.fit(colors_df, labels)\n",
        "\n",
        "print('Red Prediction:', pipeline.predict([['red']])[0])\n",
        "print('Blue Prediction:', pipeline.predict([['blue']])[0])"
      ],
      "execution_count": 3,
      "outputs": [
        {
          "output_type": "stream",
          "text": [
            "Red Prediction: 10.0\n",
            "Blue Prediction: 3.9999999999999987\n"
          ],
          "name": "stdout"
        }
      ]
    },
    {
      "cell_type": "markdown",
      "metadata": {
        "id": "4D0wq9kqQZ3l",
        "colab_type": "text"
      },
      "source": [
        "## One Hot Encoding using the tf.one_hot Operation\n",
        "The tf.one_hot operation converts integer indices into One Hot Encoded features"
      ]
    },
    {
      "cell_type": "code",
      "metadata": {
        "id": "PA0klqTJQeSJ",
        "colab_type": "code",
        "colab": {
          "base_uri": "https://localhost:8080/",
          "height": 119
        },
        "outputId": "eec6d161-92ce-4a1e-d8c1-33e3912d6881"
      },
      "source": [
        "category_indices = [0, 1, 2, 2, 1, 0]\n",
        "unique_category_count = 3\n",
        "inputs = tf.one_hot(category_indices, unique_category_count)\n",
        "print(inputs.numpy())\n",
        "# [[1. 0. 0.] <- category '0'\n",
        "#  [0. 1. 0.] <- category '1'\n",
        "#  [0. 0. 1.] <- category '2'\n",
        "#  [0. 0. 1.].     ...\n",
        "#  [0. 1. 0.].     ...\n",
        "#  [1. 0. 0.]].    ..."
      ],
      "execution_count": 4,
      "outputs": [
        {
          "output_type": "stream",
          "text": [
            "[[1. 0. 0.]\n",
            " [0. 1. 0.]\n",
            " [0. 0. 1.]\n",
            " [0. 0. 1.]\n",
            " [0. 1. 0.]\n",
            " [1. 0. 0.]]\n"
          ],
          "name": "stdout"
        }
      ]
    },
    {
      "cell_type": "markdown",
      "metadata": {
        "id": "TwDzYk1cQLco",
        "colab_type": "text"
      },
      "source": [
        "## TextVectorization Layer\n",
        "The TextVectorization Class can be used to convert string categories into integer indices"
      ]
    },
    {
      "cell_type": "code",
      "metadata": {
        "id": "6HQUwg7M2irJ",
        "colab_type": "code",
        "colab": {
          "base_uri": "https://localhost:8080/",
          "height": 85
        },
        "outputId": "7b6a2b87-54d8-44b4-f070-95ecffd40064"
      },
      "source": [
        "text_vectorization = layers.experimental.preprocessing.TextVectorization(output_sequence_length=1)\n",
        "text_vectorization.adapt(colors_df.values)\n",
        "\n",
        "print('Red index:', text_vectorization.call([['red']]))\n",
        "print('Blue index:', text_vectorization.call([['blue']]))\n",
        "print('Green index:', text_vectorization.call([['green']]))\n",
        "\n",
        "print(text_vectorization.get_vocabulary()) # prints [b'blue', b'red', b'green']"
      ],
      "execution_count": 5,
      "outputs": [
        {
          "output_type": "stream",
          "text": [
            "Red index: tf.Tensor([[3]], shape=(1, 1), dtype=int64)\n",
            "Blue index: tf.Tensor([[2]], shape=(1, 1), dtype=int64)\n",
            "Green index: tf.Tensor([[4]], shape=(1, 1), dtype=int64)\n",
            "[b'blue', b'red', b'green']\n"
          ],
          "name": "stdout"
        }
      ]
    },
    {
      "cell_type": "markdown",
      "metadata": {
        "id": "U8S1hx7mRZuO",
        "colab_type": "text"
      },
      "source": [
        "## The OneHotEncodingLayer Class\n",
        "The layer can be used as part of a model to One Hot Encode categorical input features.\n",
        "\n",
        "*   `adapt()` fits the layer to the categorical inputs\n",
        "*   `call()` invokes the layer and One Hot Encodes the inputs based on the vocabulary learned during the call to `adapt()`\n",
        "* `get_config()` returns a configuration dict that represents the state of the layer. This includes the vocabulary (e.g. `['red','green','blue']`), the depth (or the number of unique categories), and the minimum index.\n",
        "\n"
      ]
    },
    {
      "cell_type": "code",
      "metadata": {
        "id": "ks57J_0axpUR",
        "colab_type": "code",
        "colab": {}
      },
      "source": [
        "class OneHotEncodingLayer(layers.experimental.preprocessing.PreprocessingLayer):\n",
        "  def __init__(self, vocabulary=None, depth=None, minimum=None):\n",
        "    super().__init__()\n",
        "    self.vectorization = layers.experimental.preprocessing.TextVectorization(output_sequence_length=1)  \n",
        "\n",
        "    if vocabulary:\n",
        "      self.vectorization.set_vocabulary(vocabulary)\n",
        "    self.depth = depth   \n",
        "    self.minimum = minimum\n",
        "\n",
        "  def adapt(self, data):\n",
        "    self.vectorization.adapt(data)\n",
        "    vocab = self.vectorization.get_vocabulary()\n",
        "    self.depth = len(vocab)\n",
        "    indices = [i[0] for i in self.vectorization([[v] for v in vocab]).numpy()]\n",
        "    self.minimum = min(indices)\n",
        "\n",
        "  def call(self,inputs):\n",
        "    vectorized = self.vectorization.call(inputs)\n",
        "    subtracted = tf.subtract(vectorized, tf.constant([self.minimum], dtype=tf.int64))\n",
        "    encoded = tf.one_hot(subtracted, self.depth)\n",
        "    return layers.Reshape((self.depth,))(encoded)\n",
        "\n",
        "  def get_config(self):\n",
        "    return {'vocabulary': self.vectorization.get_vocabulary(), 'depth': self.depth, 'minimum': self.minimum}"
      ],
      "execution_count": 0,
      "outputs": []
    },
    {
      "cell_type": "markdown",
      "metadata": {
        "id": "yoGbzxI3SM4y",
        "colab_type": "text"
      },
      "source": [
        "## Simple Neural Network\n",
        "A simple network that takes in a single categorical input (*color*), One Hot Encodes it, then concatenates the result with a single numeric input (*id*). "
      ]
    },
    {
      "cell_type": "code",
      "metadata": {
        "id": "1Vy4cd81gxQu",
        "colab_type": "code",
        "colab": {}
      },
      "source": [
        "colors_df = pd.DataFrame(data=[[5,'yellow'],[1,'red'],[2,'blue'],[3,'green'],[4,'blue'],[7,'purple']], columns=['id', 'color'])\n",
        "\n",
        "categorical_input = layers.Input(shape=(1,), dtype=tf.string)\n",
        "one_hot_layer = OneHotEncodingLayer()\n",
        "one_hot_layer.adapt(colors_df['color'].values)\n",
        "encoded = one_hot_layer(categorical_input)\n",
        "\n",
        "numeric_input = layers.Input(shape=(1,), dtype=tf.float32)\n",
        "\n",
        "concat = layers.concatenate([numeric_input, encoded])"
      ],
      "execution_count": 0,
      "outputs": []
    },
    {
      "cell_type": "markdown",
      "metadata": {
        "id": "_T4u6xyESqcH",
        "colab_type": "text"
      },
      "source": [
        "# Executing the Model\n",
        "Since this model has not trainable weights, we don't need to call `fit()` before executing it on some inputs. In a real Model, you would likely have some additional trainable layers after the concatenation that attempt to predict some target value."
      ]
    },
    {
      "cell_type": "code",
      "metadata": {
        "id": "gVJZEHGghPPw",
        "colab_type": "code",
        "colab": {
          "base_uri": "https://localhost:8080/",
          "height": 119
        },
        "outputId": "27698547-b7d1-4319-efe7-74fb1f0de6a9"
      },
      "source": [
        "model = models.Model(inputs=[numeric_input, categorical_input], outputs=[concat])\n",
        "model.compile()\n",
        "predicted = model.predict([colors_df['id'], colors_df['color']])\n",
        "print(predicted)\n",
        "# [[5. 0. 1. 0. 0. 0.]\n",
        "#  [1. 0. 0. 1. 0. 0.]\n",
        "#  [2. 1. 0. 0. 0. 0.]\n",
        "#  [3. 0. 0. 0. 0. 1.]\n",
        "#  [4. 1. 0. 0. 0. 0.]\n",
        "#  [7. 0. 0. 0. 1. 0.]]"
      ],
      "execution_count": 8,
      "outputs": [
        {
          "output_type": "stream",
          "text": [
            "[[5. 0. 1. 0. 0. 0.]\n",
            " [1. 0. 0. 1. 0. 0.]\n",
            " [2. 1. 0. 0. 0. 0.]\n",
            " [3. 0. 0. 0. 0. 1.]\n",
            " [4. 1. 0. 0. 0. 0.]\n",
            " [7. 0. 0. 0. 1. 0.]]\n"
          ],
          "name": "stdout"
        }
      ]
    },
    {
      "cell_type": "markdown",
      "metadata": {
        "id": "VjGzJx5gTECr",
        "colab_type": "text"
      },
      "source": [
        "## Saving the Model configuration as a JSON object\n",
        "Since the Custom One Hot Encoding layer class defined a `get_config()` method, we can save it along with the entire model as a JSON object. This model can then be reloaded from the JSON config and used to perform inference."
      ]
    },
    {
      "cell_type": "code",
      "metadata": {
        "id": "UXxOJPuE2kos",
        "colab_type": "code",
        "colab": {
          "base_uri": "https://localhost:8080/",
          "height": 119
        },
        "outputId": "93e5b4b6-6074-4425-e3be-1f631e2f82c6"
      },
      "source": [
        "config = model.get_config()\n",
        "with tf.keras.utils.custom_object_scope({'OneHotEncodingLayer': OneHotEncodingLayer}):\n",
        "  loaded_model = tf.keras.Model.from_config(config)\n",
        "\n",
        "predicted = loaded_model.predict([colors_df['id'], colors_df['color']])\n",
        "print(predicted)\n",
        "# [[5. 0. 1. 0. 0. 0.]\n",
        "#  [1. 0. 0. 1. 0. 0.]\n",
        "#  [2. 1. 0. 0. 0. 0.]\n",
        "#  [3. 0. 0. 0. 0. 1.]\n",
        "#  [4. 1. 0. 0. 0. 0.]\n",
        "#  [7. 0. 0. 0. 1. 0.]]"
      ],
      "execution_count": 9,
      "outputs": [
        {
          "output_type": "stream",
          "text": [
            "[[5. 0. 1. 0. 0. 0.]\n",
            " [1. 0. 0. 1. 0. 0.]\n",
            " [2. 1. 0. 0. 0. 0.]\n",
            " [3. 0. 0. 0. 0. 1.]\n",
            " [4. 1. 0. 0. 0. 0.]\n",
            " [7. 0. 0. 0. 1. 0.]]\n"
          ],
          "name": "stdout"
        }
      ]
    }
  ]
}